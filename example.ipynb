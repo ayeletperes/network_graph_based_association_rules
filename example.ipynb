{
 "cells": [
  {
   "cell_type": "code",
   "execution_count": 18,
   "metadata": {},
   "outputs": [],
   "source": [
    "import warnings\n",
    "\n",
    "import pandas as pd\n",
    "from pathlib import Path\n",
    "import glob\n",
    "from sklearn.metrics import confusion_matrix, ConfusionMatrixDisplay\n",
    "\n",
    "# import modules\n",
    "from src.data_processing import genotypeData\n",
    "from src.rules_creation import rulesMining\n",
    "from src.network_model import rulesNetwork\n",
    "\n",
    "warnings.filterwarnings(\"ignore\")"
   ]
  },
  {
   "cell_type": "code",
   "execution_count": 13,
   "metadata": {},
   "outputs": [],
   "source": [
    "path = 'data/P1'\n",
    "file_pattern = '_genotype'\n",
    "metadata = './data/P1_metadata.tsv'\n",
    "d_metadata = pd.read_csv(metadata, delimiter= \"\\t\").set_index('subject')['status'].T.to_dict()\n",
    "gd = genotypeData(path, d_metadata, file_pattern)\n",
    "files = gd.list_files()\n",
    "genotypes = gd.read_files(files)\n",
    "genotypes_clean = gd.clean_genotype_data(genotypes, silent=True)"
   ]
  },
  {
   "cell_type": "code",
   "execution_count": 14,
   "metadata": {},
   "outputs": [],
   "source": [
    " # mining rules\n",
    "mr = rulesMining(genotypes_clean, transactions_columns=\"calls\")\n",
    "rules = mr.mining_rules()\n"
   ]
  },
  {
   "cell_type": "code",
   "execution_count": 15,
   "metadata": {},
   "outputs": [],
   "source": [
    "# creating network\n",
    "net = rulesNetwork(rules, genotypes_clean)\n",
    "graph = net.create_network_multiprocess(processes=2)\n",
    "path,steps,path_increase_value = net.greedy_max_weight()"
   ]
  },
  {
   "cell_type": "code",
   "execution_count": 19,
   "metadata": {},
   "outputs": [],
   "source": [
    "# get predictions\n",
    "pred = net.get_prediction(path)\n",
    "cm = net.get_confusion_matrix(path)\n",
    "disp = ConfusionMatrixDisplay(confusion_matrix=cm)"
   ]
  },
  {
   "cell_type": "code",
   "execution_count": 21,
   "metadata": {},
   "outputs": [
    {
     "name": "stdout",
     "output_type": "stream",
     "text": [
      "For the chosen path: ['IGHV4-30-2*Deletion', 'IGHV4-39*01', 'IGHV5-51*03']\n",
      "The F1 score prediction is 0.8\n",
      "The confusion matrix is:\n"
     ]
    }
   ],
   "source": [
    "print('For the chosen path: {}'.format(list(set(path))))\n",
    "print('The F1 score prediction is {}'.format(pred))\n",
    "print('The confusion matrix is:')\n"
   ]
  },
  {
   "cell_type": "code",
   "execution_count": 22,
   "metadata": {},
   "outputs": [
    {
     "data": {
      "text/plain": [
       "<sklearn.metrics._plot.confusion_matrix.ConfusionMatrixDisplay at 0x7f13ef002e00>"
      ]
     },
     "execution_count": 22,
     "metadata": {},
     "output_type": "execute_result"
    },
    {
     "data": {
      "image/png": "[encoded data removed]",
      "text/plain": [
       "<Figure size 432x288 with 2 Axes>"
      ]
     },
     "metadata": {
      "needs_background": "light"
     },
     "output_type": "display_data"
    }
   ],
   "source": [
    "disp.plot()"
   ]
  }
 ],
 "metadata": {
  "kernelspec": {
   "display_name": ".venv",
   "language": "python",
   "name": "python3"
  },
  "language_info": {
   "codemirror_mode": {
    "name": "ipython",
    "version": 3
   },
   "file_extension": ".py",
   "mimetype": "text/x-python",
   "name": "python",
   "nbconvert_exporter": "python",
   "pygments_lexer": "ipython3",
   "version": "3.10.6"
  },
  "orig_nbformat": 4
 },
 "nbformat": 4,
 "nbformat_minor": 2
}
